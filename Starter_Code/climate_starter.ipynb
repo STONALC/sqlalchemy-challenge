{
 "cells": [
  {
   "cell_type": "code",
   "execution_count": null,
   "metadata": {},
   "outputs": [],
   "source": [
    "%matplotlib inline\n",
    "from matplotlib import style\n",
    "style.use('fivethirtyeight')\n",
    "import matplotlib.pyplot as plt"
   ]
  },
  {
   "cell_type": "code",
   "execution_count": null,
   "metadata": {},
   "outputs": [],
   "source": [
    "# Import Dependencies\n",
    "from sqlalchemy.ext.automap import automap_base\n",
    "from sqlalchemy.orm import Session, sessionmaker\n",
    "from sqlalchemy import create_engine"
   ]
  },
  {
   "cell_type": "markdown",
   "metadata": {},
   "source": [
    "# Reflect Tables into SQLAlchemy ORM"
   ]
  },
  {
   "cell_type": "code",
   "execution_count": null,
   "metadata": {},
   "outputs": [],
   "source": [
    "# Python SQL toolkit and Object Relational Mapper\n",
    "import sqlalchemy\n",
    "from sqlalchemy.ext.automap import automap_base\n",
    "from sqlalchemy.orm import Session\n",
    "from sqlalchemy import create_engine, func"
   ]
  },
  {
   "cell_type": "code",
   "execution_count": null,
   "metadata": {},
   "outputs": [],
   "source": [
    "# create engine to hawaii.sqlite\n",
    "engine = create_engine(\"sqlite:///Resources/hawaii.sqlite\")"
   ]
  },
  {
   "cell_type": "code",
   "execution_count": null,
   "metadata": {},
   "outputs": [],
   "source": [
    "from sqlalchemy import create_engine, MetaData, Table\n",
    "\n",
    "# Create the engine to the hawaii.sqlite database\n",
    "engine = create_engine(\"sqlite:///Resources/hawaii.sqlite\")\n",
    "\n",
    "# Create MetaData instance\n",
    "metadata = MetaData()\n",
    "\n",
    "# Reflect the database\n",
    "metadata.reflect(bind=engine)\n",
    "\n",
    "# Access the reflected tables (for example, the 'measurement' table)\n",
    "measurement_table = Table('measurement', metadata, autoload_with=engine)\n",
    "\n",
    "# Print column names of the 'measurement' table to verify\n",
    "print([column.name for column in measurement_table.columns])"
   ]
  },
  {
   "cell_type": "code",
   "execution_count": null,
   "metadata": {},
   "outputs": [],
   "source": [
    "# View all of the classes that automap found\n",
    "print(Base.classes.keys())"
   ]
  },
  {
   "cell_type": "code",
   "execution_count": null,
   "metadata": {},
   "outputs": [],
   "source": [
    "# Save references to each table\n",
    "Measurement = Base.classes.measurement\n",
    "Station = Base.classes.station"
   ]
  },
  {
   "cell_type": "code",
   "execution_count": null,
   "metadata": {},
   "outputs": [],
   "source": [
    "# Create our session (link) from Python to the DB\n",
    "session = Session(engine)"
   ]
  },
  {
   "cell_type": "markdown",
   "metadata": {},
   "source": [
    "# Exploratory Precipitation Analysis"
   ]
  },
  {
   "cell_type": "code",
   "execution_count": null,
   "metadata": {},
   "outputs": [],
   "source": [
    "# Find the most recent date in the data set.\n",
    "most_recent_date = session.query(func.max(Measurement.date)).scalar()"
   ]
  },
  {
   "cell_type": "code",
   "execution_count": null,
   "metadata": {},
   "outputs": [],
   "source": [
    "# Design a query to retrieve the last 12 months of precipitation data and plot the results. \n",
    "last_12_months_date = pd.to_datetime(most_recent_date) - pd.DateOffset(months=12)\n",
    "\n",
    "# Starting from the most recent data point in the database. \n",
    "precipi_data = session.query(Measurement.date, Measurement.prcp).\\\n",
    "    filter(Measurement.date >= last_12_months_date).\\\n",
    "    order_by(Measurement.date).all()\n",
    "\n",
    "\n",
    "# Calculate the date one year from the last date in data set.\n",
    "\n",
    "one_year_ago = pd.to_datetime(most_recent_date) - pd.DateOffset(years=1)\n",
    "# Perform a query to retrieve the data and precipitation scores\n",
    "\n",
    "\n",
    "# Save the query results as a Pandas DataFrame. Explicitly set the column names\n",
    "precip_df = pd.DataFrame(precip_data, columns=['date', 'precipitation'])\n",
    "\n",
    "# Sort the dataframe by date\n",
    "precip_df_sorted.reset_index(drop=True, inplace=True)\n",
    "\n",
    "# Use Pandas Plotting with Matplotlib to plot the data\n",
    "plt.figure(figsize=(10, 6))\n",
    "precip_df_sorted.plot(y='precipitation', use_index=True, legend=False)\n",
    "plt.title('Precipitation in the Last 12 Months')\n",
    "plt.xlabel('Date')\n",
    "plt.ylabel('Precipitation (inches)')\n",
    "plt.grid(True)\n",
    "plt.show()\n"
   ]
  },
  {
   "cell_type": "code",
   "execution_count": null,
   "metadata": {},
   "outputs": [],
   "source": [
    "# Use Pandas to calculate the summary statistics for the precipitation data\n",
    "summary_stats = precip_df_sorted['precipitation'].describe()\n",
    "\n",
    "# Print the summary statistics\n",
    "print(summary_stats)\n"
   ]
  },
  {
   "cell_type": "markdown",
   "metadata": {},
   "source": [
    "# Exploratory Station Analysis"
   ]
  },
  {
   "cell_type": "code",
   "execution_count": null,
   "metadata": {},
   "outputs": [],
   "source": [
    "from sqlalchemy.ext.automap import automap_base\n",
    "from sqlalchemy.orm import Session, sessionmaker\n",
    "from sqlalchemy import create_engine, func\n",
    "\n",
    "# Create the engine to the hawaii.sqlite database\n",
    "engine = create_engine(\"sqlite:///Resources/hawaii.sqlite\")\n",
    "\n",
    "# Reflect the database using autoload_with parameter\n",
    "Base = automap_base()\n",
    "Base.prepare(autoload_with=engine)\n",
    "\n",
    "# Save references to the tables\n",
    "Measurement = Base.classes.measurement\n",
    "\n",
    "# Create a session factory\n",
    "Session = sessionmaker(bind=engine)\n",
    "\n",
    "# Instantiate a session\n",
    "session = Session()\n",
    "\n",
    "# Now you can use 'session' to interact with the database\n",
    "# For example, query the most recent date in the Measurement table\n",
    "most_recent_date = session.query(func.max(Measurement.date)).scalar()\n",
    "\n",
    "# Print the result\n",
    "print(f\"The most recent date in the data set is: {most_recent_date}\")\n",
    "\n",
    "# Close the session\n",
    "session.close()\n"
   ]
  },
  {
   "cell_type": "code",
   "execution_count": null,
   "metadata": {},
   "outputs": [],
   "source": [
    "# Design a query to find the most active stations (i.e. which stations have the most rows?)\n",
    "most_active_stations = session.query(Measurement.station, func.count(Measurement.station).label('count')).\\\n",
    "    group_by(Measurement.station).\\\n",
    "    order_by(func.count(Measurement.station).desc()).all()\n",
    "\n",
    "# List the stations and their counts in descending order.\n"
   ]
  },
  {
   "cell_type": "code",
   "execution_count": null,
   "metadata": {},
   "outputs": [],
   "source": [
    "# Using the most active station id from the previous query, calculate the lowest, highest, and average temperature.\n",
    "temperature_stats = session.query(\n",
    "    func.min(Measurement.tobs),\n",
    "    func.max(Measurement.tobs),\n",
    "    func.avg(Measurement.tobs)\n",
    ").filter(Measurement.station == most_active_station_id).all()\n",
    "\n",
    "# Print the results\n",
    "lowest_temp, highest_temp, avg_temp = temperature_stats[0]\n",
    "print(f\"Lowest Temperature: {lowest_temp}\")\n",
    "print(f\"Highest Temperature: {highest_temp}\")\n",
    "print(f\"Average Temperature: {avg_temp:.2f}\")"
   ]
  },
  {
   "cell_type": "code",
   "execution_count": null,
   "metadata": {},
   "outputs": [],
   "source": [
    "from sqlalchemy.ext.automap import automap_base\n",
    "from sqlalchemy.orm import Session, sessionmaker\n",
    "from sqlalchemy import create_engine, func\n",
    "\n",
    "# Create the engine to the hawaii.sqlite database\n",
    "engine = create_engine(\"sqlite:///Resources/hawaii.sqlite\")\n",
    "\n",
    "# Reflect the database using autoload_with parameter\n",
    "Base = automap_base()\n",
    "Base.prepare(autoload_with=engine)\n",
    "\n",
    "# Save references to the tables\n",
    "Measurement = Base.classes.measurement\n",
    "\n",
    "# Create a session factory\n",
    "Session = sessionmaker(bind=engine)\n",
    "\n",
    "# Instantiate a session\n",
    "session = Session()\n",
    "\n",
    "# Now you can use 'session' to interact with the database\n",
    "# For example, query the most recent date in the Measurement table\n",
    "most_recent_date = session.query(func.max(Measurement.date)).scalar()\n",
    "\n",
    "# Print the result\n",
    "print(f\"The most recent date in the data set is: {most_recent_date}\")\n",
    "\n",
    "# Close the session\n",
    "session.close()\n"
   ]
  },
  {
   "cell_type": "markdown",
   "metadata": {},
   "source": [
    "# Close Session"
   ]
  },
  {
   "cell_type": "code",
   "execution_count": null,
   "metadata": {},
   "outputs": [],
   "source": [
    "# Close Session\n",
    "session.close()"
   ]
  },
  {
   "cell_type": "code",
   "execution_count": null,
   "metadata": {},
   "outputs": [],
   "source": []
  }
 ],
 "metadata": {
  "anaconda-cloud": {},
  "kernel_info": {
   "name": "python3"
  },
  "kernelspec": {
   "display_name": "Python 3 (ipykernel)",
   "language": "python",
   "name": "python3"
  },
  "language_info": {
   "codemirror_mode": {
    "name": "ipython",
    "version": 3
   },
   "file_extension": ".py",
   "mimetype": "text/x-python",
   "name": "python",
   "nbconvert_exporter": "python",
   "pygments_lexer": "ipython3",
   "version": "3.12.4"
  },
  "nteract": {
   "version": "0.12.3"
  },
  "varInspector": {
   "cols": {
    "lenName": 16,
    "lenType": 16,
    "lenVar": 40
   },
   "kernels_config": {
    "python": {
     "delete_cmd_postfix": "",
     "delete_cmd_prefix": "del ",
     "library": "var_list.py",
     "varRefreshCmd": "print(var_dic_list())"
    },
    "r": {
     "delete_cmd_postfix": ") ",
     "delete_cmd_prefix": "rm(",
     "library": "var_list.r",
     "varRefreshCmd": "cat(var_dic_list()) "
    }
   },
   "types_to_exclude": [
    "module",
    "function",
    "builtin_function_or_method",
    "instance",
    "_Feature"
   ],
   "window_display": false
  }
 },
 "nbformat": 4,
 "nbformat_minor": 4
}
